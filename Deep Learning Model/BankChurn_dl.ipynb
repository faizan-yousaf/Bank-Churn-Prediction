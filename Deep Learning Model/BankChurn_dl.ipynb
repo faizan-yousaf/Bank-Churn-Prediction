{
 "cells": [
  {
   "cell_type": "markdown",
   "metadata": {
    "vscode": {
     "languageId": "plaintext"
    }
   },
   "source": [
    "---\n",
    "# **Bank Churn Prediction | Deep Learning approach**:\n",
    "An neural approach!"
   ]
  },
  {
   "cell_type": "markdown",
   "metadata": {
    "vscode": {
     "languageId": "plaintext"
    }
   },
   "source": [
    "<div >\n",
    "  <img src=\"https://res.cloudinary.com/dhditogyd/image/upload/v1738435832/Bank_Churn_DL_notebook_cover_lfvo1r.png\" width=\"100%\" height=\" 100%;\"/>\n",
    "</div>\n",
    "\n",
    "---\n",
    "\n"
   ]
  },
  {
   "cell_type": "markdown",
   "metadata": {
    "vscode": {
     "languageId": "plaintext"
    }
   },
   "source": [
    "\n",
    "\n",
    "Author: [Muhammad Faizan](https://www.linkedin.com/in/mrfaizanyousaf/)\n",
    "\n",
    "<div >\n",
    "  <img src=\"https://res.cloudinary.com/dhditogyd/image/upload/v1735402856/Passport_photo_jsvsip.png\" width=\"20%\" height=\" 20%;\"/>\n",
    "</div>\n",
    "\n",
    "**Muhammad Faizan**\n",
    "\n",
    "🎓 **3rd Year BS Computer Science** student at the **University of Agriculture, Faisalabad**  \n",
    "💻 Enthusiast in **Machine Learning, Data Engineering, and Data Analytics**\n",
    "\n",
    "\n",
    "🌐 **Connect with Me**\n",
    "\n",
    "[Kaggle](https://www.kaggle.com/faizanyousafonly/) | [LinkedIn](https://www.linkedin.com/in/mrfaizanyousaf/) | [GitHub](https://github.com/faizan-yousaf/)  \n",
    "\n",
    "\n",
    "\n",
    "\n",
    "💬 **Contact Me**\n",
    "- **Email:** faizanyousaf815@gmail.com\n",
    "- **WhatsApp:** [+92 306 537 5389](https://wa.me/923065375389)\n",
    "\n",
    "\n",
    "🔗 **Let’s Collaborate:**  \n",
    "I'm always open to queries, collaborations, and discussions. Let's build something amazing together!\n",
    "\n",
    "\n"
   ]
  },
  {
   "cell_type": "markdown",
   "metadata": {
    "vscode": {
     "languageId": "plaintext"
    }
   },
   "source": [
    "## Context: \n",
    "This dataset is designed to predict **customer churn** in the banking industry. It contains essential information about customers who either left the bank or continued to stay. Below is a breakdown of the dataset's attributes:\n",
    "\n",
    "### Content:\n",
    "🔍 Access the dataset:\n",
    "[Dataset_link](https://www.kaggle.com/competitions/playground-series-s4e1/data)\n",
    "\n",
    "#### Column Descriptions:\n",
    "| Attribute | Description |\n",
    "| --- | --- |\n",
    "| **👤 Customer ID** | A unique identifier for each customer. |\n",
    "| **🔠 Surname** | The customer's last name. |\n",
    "| **📈 Credit Score** | A numerical value representing the customer's credit score. |\n",
    "| **🌍 Geography** | The country where the customer resides (France, Spain, or Germany). |\n",
    "| **🚻 Gender** | The customer's gender (Male or Female). |\n",
    "| **🎂 Age** | The customer's age. |\n",
    "| **📆 Tenure** | The number of years the customer has been with the bank. |\n",
    "| **💰 Balance** | The customer's account balance. |\n",
    "| **📦 NumOfProducts** | The number of bank products the customer uses (e.g., savings account, credit card). |\n",
    "| **💳 HasCrCard** | Whether the customer has a credit card (1 = yes, 0 = no). |\n",
    "| **✅ IsActiveMember** | Whether the customer is an active member (1 = yes, 0 = no). |\n",
    "| **💵 EstimatedSalary** | The estimated salary of the customer. |\n",
    "| **🚪 Exited** | Whether the customer has churned (1 = yes, 0 = no). |\n",
    "\n",
    "\n",
    "\n",
    "\n",
    "### Acknowledgements\n",
    "### Creators:\n",
    "\n",
    "* Authors = Walter Reade and Ashley Chow,\n",
    "\n",
    "\n",
    "\n",
    "### Citation Request:\n",
    "\n",
    "Walter Reade and Ashley Chow. Binary Classification with a Bank Churn Dataset . [Cited](https://kaggle.com/competitions/playground-series-s4e1), 2024. Kaggle.\n",
    "\n",
    "\n"
   ]
  },
  {
   "cell_type": "markdown",
   "metadata": {
    "vscode": {
     "languageId": "plaintext"
    }
   },
   "source": [
    "## Aims and Objectives:\n",
    "\n",
    "We will train Deep Leanring model on the cleaned dataset."
   ]
  },
  {
   "cell_type": "markdown",
   "metadata": {},
   "source": [
    "----\n",
    "<h1 style=\"color:#42A5F5; text-align:center;\">🚀 Deep Learning for Bank Churn Prediction 🔥</h1>\n",
    "\n",
    "----\n",
    "<p style=\"font-size:18px; color:#FFFFFF;\">\n",
    "After exploring the <strong>BankChurn Dataset</strong> through <b>EDA</b> and training a Machine Learning model, it's time to level up!  \n",
    "In this notebook, I take the analysis a step further by building and fine-tuning a <strong>Deep Learning Model</strong> to enhance predictive performance. 🧠💡  \n",
    "</p>\n",
    "\n",
    "<h2 style=\"color:#FFA726;\">📌 Step-by-Step Roadmap 🔍</h2>\n",
    "\n",
    "<h3 style=\"color:#26A69A;\">📂 1. Dataset Overview & Preprocessing</h3>\n",
    "<ul style=\"font-size:18px; color:#FFFFFF;\">\n",
    "  <li>📌 Loaded the <a href=\"https://www.kaggle.com/competitions/playground-series-s4e1/data\" style=\"color:#EF5350; text-decoration:none;\"><b>BankChurn Dataset</b></a></li>\n",
    "  <li>🧼 Cleaned the data, handled missing values, and encoded categorical features</li>\n",
    "  <li>📊 Scaled numerical features for better model performance</li>\n",
    "</ul>\n",
    "\n",
    "<h3 style=\"color:#26A69A;\">📊 2. Exploratory Data Analysis (EDA)</h3>\n",
    "<ul style=\"font-size:18px; color:#FFFFFF;\">\n",
    "  <li>🔍 Analyzed feature distributions and correlations</li>\n",
    "  <li>📈 Visualized key insights about customer churn</li>\n",
    "  <li>🛠️ Identified important features influencing churn</li>\n",
    "</ul>\n",
    "<p>🔗 <b>Check out the full EDA notebook:</b> <a href=\"[[EDA Notebook Link](https://www.kaggle.com/code/faizanyousafonly/customer-churn-secrets-an-eda-journey)]\" style=\"color:#42A5F5; text-decoration:none;\">Click here</a></p>\n",
    "\n",
    "<h3 style=\"color:#26A69A;\">🤖 3. Machine Learning Model Training</h3>\n",
    "<ul style=\"font-size:18px; color:#FFFFFF;\">\n",
    "  <li>🚀 Trained multiple ML models (Logistic Regression, Decision Trees, Random Forest, XGBoost, etc.)</li>\n",
    "  <li>🏆 Selected the best-performing model based on accuracy and AUC score</li>\n",
    "</ul>\n",
    "<p>🔗 <b>Check out the ML Model notebook:</b> <a href=\"[[ML Notebook Link](https://www.kaggle.com/code/faizanyousafonly/bank-churn-prediction-xgboost-85-6)]\" style=\"color:#42A5F5; text-decoration:none;\">Click here</a></p>\n",
    "\n",
    "<h3 style=\"color:#26A69A;\">🧠 4. Deep Learning Model Implementation</h3>\n",
    "<ul style=\"font-size:18px; color:#FFFFFF;\">\n",
    "  <li>🛠️ Built a Deep Neural Network (DNN) using TensorFlow/Keras</li>\n",
    "  <li>📊 Designed the architecture with optimal layers and activation functions</li>\n",
    "  <li>🔧 Tuned hyperparameters to improve model performance</li>\n",
    "</ul>\n",
    "\n",
    "<h3 style=\"color:#26A69A;\">🚀 5. Model Training & Evaluation</h3>\n",
    "<ul style=\"font-size:18px; color:#FFFFFF;\">\n",
    "  <li>⏳ Trained the Deep Learning model and monitored loss/accuracy</li>\n",
    "  <li>📉 Evaluated the model on test data and compared it with ML models</li>\n",
    "  <li>📌 Visualized learning curves and classification metrics</li>\n",
    "</ul>\n",
    "\n",
    "<h3 style=\"color:#26A69A;\">📌 6. Predictions & Insights</h3>\n",
    "<ul style=\"font-size:18px; color:#FFFFFF;\">\n",
    "  <li>📈 Used the trained model to predict customer churn</li>\n",
    "  <li>🔍 Interpreted the results and key takeaways</li>\n",
    "</ul>\n",
    "\n",
    "----\n"
   ]
  },
  {
   "cell_type": "markdown",
   "metadata": {},
   "source": [
    "# 1. **Setting Up the Environment** ✅\n",
    "\n",
    "Let's start the project by importing all the libraries that we will use in this project."
   ]
  },
  {
   "cell_type": "code",
   "execution_count": null,
   "metadata": {},
   "outputs": [],
   "source": [
    "# # install plotly: \n",
    "# !pip install plotly"
   ]
  },
  {
   "cell_type": "code",
   "execution_count": 2,
   "metadata": {},
   "outputs": [],
   "source": [
    "# Step 1: Import Libraries\n",
    "import numpy as np\n",
    "import pandas as pd\n",
    "import plotly.express as px\n",
    "from sklearn.model_selection import train_test_split\n",
    "from sklearn.preprocessing import StandardScaler, OneHotEncoder\n",
    "from sklearn.compose import ColumnTransformer\n",
    "from sklearn.pipeline import Pipeline\n",
    "from tensorflow.keras.models import Sequential\n",
    "from tensorflow.keras.layers import Dense, Dropout\n",
    "from tensorflow.keras.optimizers import Adam\n",
    "from tensorflow.keras.callbacks import EarlyStopping\n",
    "\n",
    "print(\"Libraries successfully loaded! ✔\")"
   ]
  },
  {
   "cell_type": "markdown",
   "metadata": {},
   "source": [
    "# 2. 📊 **Loading and Peeking at the Data** 👀"
   ]
  },
  {
   "cell_type": "code",
   "execution_count": 3,
   "metadata": {},
   "outputs": [
    {
     "data": {
      "text/html": [
       "<div>\n",
       "<style scoped>\n",
       "    .dataframe tbody tr th:only-of-type {\n",
       "        vertical-align: middle;\n",
       "    }\n",
       "\n",
       "    .dataframe tbody tr th {\n",
       "        vertical-align: top;\n",
       "    }\n",
       "\n",
       "    .dataframe thead th {\n",
       "        text-align: right;\n",
       "    }\n",
       "</style>\n",
       "<table border=\"1\" class=\"dataframe\">\n",
       "  <thead>\n",
       "    <tr style=\"text-align: right;\">\n",
       "      <th></th>\n",
       "      <th>id</th>\n",
       "      <th>CustomerId</th>\n",
       "      <th>Surname</th>\n",
       "      <th>CreditScore</th>\n",
       "      <th>Age</th>\n",
       "      <th>Tenure</th>\n",
       "      <th>Balance</th>\n",
       "      <th>NumOfProducts</th>\n",
       "      <th>HasCrCard</th>\n",
       "      <th>IsActiveMember</th>\n",
       "      <th>EstimatedSalary</th>\n",
       "      <th>Exited</th>\n",
       "      <th>AgeCategory</th>\n",
       "      <th>CreditScoreCategory</th>\n",
       "      <th>BalanceCategory</th>\n",
       "      <th>SalaryCategory</th>\n",
       "      <th>Geography_Germany</th>\n",
       "      <th>Geography_Spain</th>\n",
       "      <th>Gender_Male</th>\n",
       "    </tr>\n",
       "  </thead>\n",
       "  <tbody>\n",
       "    <tr>\n",
       "      <th>0</th>\n",
       "      <td>0</td>\n",
       "      <td>15674932</td>\n",
       "      <td>Okwudilichukwu</td>\n",
       "      <td>668</td>\n",
       "      <td>33.0</td>\n",
       "      <td>3</td>\n",
       "      <td>0.00</td>\n",
       "      <td>2</td>\n",
       "      <td>1.0</td>\n",
       "      <td>0.0</td>\n",
       "      <td>181449.97</td>\n",
       "      <td>0</td>\n",
       "      <td>2</td>\n",
       "      <td>1.0</td>\n",
       "      <td>3.0</td>\n",
       "      <td>5.0</td>\n",
       "      <td>0.0</td>\n",
       "      <td>0.0</td>\n",
       "      <td>1.0</td>\n",
       "    </tr>\n",
       "    <tr>\n",
       "      <th>1</th>\n",
       "      <td>1</td>\n",
       "      <td>15749177</td>\n",
       "      <td>Okwudiliolisa</td>\n",
       "      <td>627</td>\n",
       "      <td>33.0</td>\n",
       "      <td>1</td>\n",
       "      <td>0.00</td>\n",
       "      <td>2</td>\n",
       "      <td>1.0</td>\n",
       "      <td>1.0</td>\n",
       "      <td>49503.50</td>\n",
       "      <td>0</td>\n",
       "      <td>2</td>\n",
       "      <td>1.0</td>\n",
       "      <td>3.0</td>\n",
       "      <td>1.0</td>\n",
       "      <td>0.0</td>\n",
       "      <td>0.0</td>\n",
       "      <td>1.0</td>\n",
       "    </tr>\n",
       "    <tr>\n",
       "      <th>2</th>\n",
       "      <td>2</td>\n",
       "      <td>15694510</td>\n",
       "      <td>Hsueh</td>\n",
       "      <td>678</td>\n",
       "      <td>40.0</td>\n",
       "      <td>10</td>\n",
       "      <td>0.00</td>\n",
       "      <td>2</td>\n",
       "      <td>1.0</td>\n",
       "      <td>0.0</td>\n",
       "      <td>184866.69</td>\n",
       "      <td>0</td>\n",
       "      <td>3</td>\n",
       "      <td>2.0</td>\n",
       "      <td>3.0</td>\n",
       "      <td>5.0</td>\n",
       "      <td>0.0</td>\n",
       "      <td>0.0</td>\n",
       "      <td>1.0</td>\n",
       "    </tr>\n",
       "    <tr>\n",
       "      <th>3</th>\n",
       "      <td>3</td>\n",
       "      <td>15741417</td>\n",
       "      <td>Kao</td>\n",
       "      <td>581</td>\n",
       "      <td>34.0</td>\n",
       "      <td>2</td>\n",
       "      <td>148882.54</td>\n",
       "      <td>1</td>\n",
       "      <td>1.0</td>\n",
       "      <td>1.0</td>\n",
       "      <td>84560.88</td>\n",
       "      <td>0</td>\n",
       "      <td>2</td>\n",
       "      <td>1.0</td>\n",
       "      <td>1.0</td>\n",
       "      <td>2.0</td>\n",
       "      <td>0.0</td>\n",
       "      <td>0.0</td>\n",
       "      <td>1.0</td>\n",
       "    </tr>\n",
       "    <tr>\n",
       "      <th>4</th>\n",
       "      <td>4</td>\n",
       "      <td>15766172</td>\n",
       "      <td>Chiemenam</td>\n",
       "      <td>716</td>\n",
       "      <td>33.0</td>\n",
       "      <td>5</td>\n",
       "      <td>0.00</td>\n",
       "      <td>2</td>\n",
       "      <td>1.0</td>\n",
       "      <td>1.0</td>\n",
       "      <td>15068.83</td>\n",
       "      <td>0</td>\n",
       "      <td>2</td>\n",
       "      <td>2.0</td>\n",
       "      <td>3.0</td>\n",
       "      <td>6.0</td>\n",
       "      <td>0.0</td>\n",
       "      <td>1.0</td>\n",
       "      <td>1.0</td>\n",
       "    </tr>\n",
       "  </tbody>\n",
       "</table>\n",
       "</div>"
      ],
      "text/plain": [
       "   id  CustomerId         Surname  CreditScore   Age  Tenure    Balance  \\\n",
       "0   0    15674932  Okwudilichukwu          668  33.0       3       0.00   \n",
       "1   1    15749177   Okwudiliolisa          627  33.0       1       0.00   \n",
       "2   2    15694510           Hsueh          678  40.0      10       0.00   \n",
       "3   3    15741417             Kao          581  34.0       2  148882.54   \n",
       "4   4    15766172       Chiemenam          716  33.0       5       0.00   \n",
       "\n",
       "   NumOfProducts  HasCrCard  IsActiveMember  EstimatedSalary  Exited  \\\n",
       "0              2        1.0             0.0        181449.97       0   \n",
       "1              2        1.0             1.0         49503.50       0   \n",
       "2              2        1.0             0.0        184866.69       0   \n",
       "3              1        1.0             1.0         84560.88       0   \n",
       "4              2        1.0             1.0         15068.83       0   \n",
       "\n",
       "   AgeCategory  CreditScoreCategory  BalanceCategory  SalaryCategory  \\\n",
       "0            2                  1.0              3.0             5.0   \n",
       "1            2                  1.0              3.0             1.0   \n",
       "2            3                  2.0              3.0             5.0   \n",
       "3            2                  1.0              1.0             2.0   \n",
       "4            2                  2.0              3.0             6.0   \n",
       "\n",
       "   Geography_Germany  Geography_Spain  Gender_Male  \n",
       "0                0.0              0.0          1.0  \n",
       "1                0.0              0.0          1.0  \n",
       "2                0.0              0.0          1.0  \n",
       "3                0.0              0.0          1.0  \n",
       "4                0.0              1.0          1.0  "
      ]
     },
     "execution_count": 3,
     "metadata": {},
     "output_type": "execute_result"
    }
   ],
   "source": [
    "# Step 2: Load the Dataset\n",
    "# Load the dataset and display the first five rows\n",
    "\n",
    "df = pd.read_csv('train_preprocessed.csv')\n",
    "df.head()"
   ]
  },
  {
   "cell_type": "markdown",
   "metadata": {},
   "source": [
    "# 3. **Preprocess the Data** 👨🏻‍🔬"
   ]
  },
  {
   "cell_type": "code",
   "execution_count": 4,
   "metadata": {},
   "outputs": [
    {
     "name": "stdout",
     "output_type": "stream",
     "text": [
      "Categorical columns: Index([], dtype='object')\n",
      "Numerical columns: Index(['Tenure', 'NumOfProducts', 'HasCrCard', 'IsActiveMember', 'AgeCategory',\n",
      "       'CreditScoreCategory', 'BalanceCategory', 'SalaryCategory',\n",
      "       'Geography_Germany', 'Geography_Spain', 'Gender_Male'],\n",
      "      dtype='object')\n"
     ]
    }
   ],
   "source": [
    "df.drop(['id', 'CustomerId', 'Surname', 'CreditScore', 'Age', 'Balance', 'EstimatedSalary'], axis=1, inplace=True)\n",
    "\n",
    "\n",
    "# Assuming 'Exited' is the target column\n",
    "X = df.drop(columns=['Exited'])  # Features\n",
    "y = df['Exited']  # Target\n",
    "\n",
    "# Identify categorical and numerical columns\n",
    "categorical_cols = X.select_dtypes(include=['object', 'category']).columns\n",
    "numerical_cols = X.select_dtypes(include=['int64', 'float64']).columns\n",
    "\n",
    "print('Categorical columns:', categorical_cols)\n",
    "print('Numerical columns:', numerical_cols)\n",
    "\n"
   ]
  },
  {
   "cell_type": "code",
   "execution_count": 5,
   "metadata": {},
   "outputs": [],
   "source": [
    "# Create a preprocessing pipeline\n",
    "preprocessor = ColumnTransformer(\n",
    "    transformers=[\n",
    "        ('num', StandardScaler(), numerical_cols),  # Scale numerical features\n",
    "        ('cat', OneHotEncoder(), categorical_cols)  # One-hot encode categorical features\n",
    "    ])\n",
    "\n",
    "# Apply preprocessing\n",
    "X = preprocessor.fit_transform(X)\n",
    "\n",
    "# Split the data into training and testing sets\n",
    "X_train, X_test, y_train, y_test = train_test_split(X, y, test_size=0.2, random_state=42, stratify=y)"
   ]
  },
  {
   "cell_type": "markdown",
   "metadata": {},
   "source": [
    "# 4. **Build and Train the Model** 🤖"
   ]
  },
  {
   "cell_type": "code",
   "execution_count": 8,
   "metadata": {},
   "outputs": [
    {
     "name": "stdout",
     "output_type": "stream",
     "text": [
      "Epoch 1/20\n",
      "4126/4126 [==============================] - 32s 7ms/step - loss: 0.3741 - accuracy: 0.8386 - val_loss: 0.3448 - val_accuracy: 0.8526\n",
      "Epoch 2/20\n",
      "4126/4126 [==============================] - 29s 7ms/step - loss: 0.3428 - accuracy: 0.8536 - val_loss: 0.3433 - val_accuracy: 0.8536\n",
      "Epoch 3/20\n",
      "4126/4126 [==============================] - 28s 7ms/step - loss: 0.3414 - accuracy: 0.8544 - val_loss: 0.3420 - val_accuracy: 0.8537\n",
      "Epoch 4/20\n",
      "4126/4126 [==============================] - 53s 13ms/step - loss: 0.3406 - accuracy: 0.8540 - val_loss: 0.3433 - val_accuracy: 0.8537\n",
      "Epoch 5/20\n",
      "4126/4126 [==============================] - 44s 11ms/step - loss: 0.3400 - accuracy: 0.8543 - val_loss: 0.3417 - val_accuracy: 0.8538\n",
      "Epoch 6/20\n",
      "4126/4126 [==============================] - 41s 10ms/step - loss: 0.3397 - accuracy: 0.8550 - val_loss: 0.3410 - val_accuracy: 0.8550\n",
      "Epoch 7/20\n",
      "4126/4126 [==============================] - 39s 9ms/step - loss: 0.3395 - accuracy: 0.8548 - val_loss: 0.3417 - val_accuracy: 0.8543\n",
      "Epoch 8/20\n",
      "4126/4126 [==============================] - 40s 10ms/step - loss: 0.3394 - accuracy: 0.8546 - val_loss: 0.3412 - val_accuracy: 0.8549\n",
      "Epoch 9/20\n",
      "4126/4126 [==============================] - 62s 15ms/step - loss: 0.3392 - accuracy: 0.8545 - val_loss: 0.3410 - val_accuracy: 0.8542\n",
      "Epoch 10/20\n",
      "4126/4126 [==============================] - 42s 10ms/step - loss: 0.3391 - accuracy: 0.8552 - val_loss: 0.3416 - val_accuracy: 0.8544\n",
      "Epoch 11/20\n",
      "4126/4126 [==============================] - 43s 10ms/step - loss: 0.3390 - accuracy: 0.8545 - val_loss: 0.3410 - val_accuracy: 0.8538\n",
      "Epoch 12/20\n",
      "4126/4126 [==============================] - 77s 19ms/step - loss: 0.3389 - accuracy: 0.8545 - val_loss: 0.3409 - val_accuracy: 0.8544\n",
      "Epoch 13/20\n",
      "4126/4126 [==============================] - 79s 19ms/step - loss: 0.3387 - accuracy: 0.8545 - val_loss: 0.3403 - val_accuracy: 0.8555\n",
      "Epoch 14/20\n",
      "4126/4126 [==============================] - 89s 22ms/step - loss: 0.3387 - accuracy: 0.8544 - val_loss: 0.3408 - val_accuracy: 0.8552\n",
      "Epoch 15/20\n",
      "4126/4126 [==============================] - 89s 22ms/step - loss: 0.3388 - accuracy: 0.8547 - val_loss: 0.3406 - val_accuracy: 0.8542\n",
      "Epoch 16/20\n",
      "4126/4126 [==============================] - 69s 17ms/step - loss: 0.3387 - accuracy: 0.8545 - val_loss: 0.3403 - val_accuracy: 0.8552\n",
      "Epoch 17/20\n",
      "4126/4126 [==============================] - 110s 27ms/step - loss: 0.3387 - accuracy: 0.8544 - val_loss: 0.3403 - val_accuracy: 0.8559\n",
      "Epoch 18/20\n",
      "4126/4126 [==============================] - 81s 20ms/step - loss: 0.3385 - accuracy: 0.8547 - val_loss: 0.3399 - val_accuracy: 0.8559\n",
      "Epoch 19/20\n",
      "4126/4126 [==============================] - 143s 35ms/step - loss: 0.3384 - accuracy: 0.8551 - val_loss: 0.3406 - val_accuracy: 0.8545\n",
      "Epoch 20/20\n",
      "4126/4126 [==============================] - 54s 13ms/step - loss: 0.3384 - accuracy: 0.8548 - val_loss: 0.3405 - val_accuracy: 0.8550\n",
      "CPU times: total: 17min 31s\n",
      "Wall time: 20min 48s\n"
     ]
    }
   ],
   "source": [
    "%%time\n",
    "# create a deep neural network using tensorflow for binary classification\n",
    "import tensorflow as tf\n",
    "from tensorflow.keras.callbacks import EarlyStopping\n",
    "\n",
    "# Building the model\n",
    "model = tf.keras.models.Sequential([\n",
    "    tf.keras.layers.Dense(16, activation='relu', \n",
    "                          input_shape=(X_train.shape[1],)), # Input layer\n",
    "    tf.keras.layers.Dense(8, activation='relu'), # Hidden layer 1\n",
    "    \n",
    "    tf.keras.layers.Dense(1, activation='sigmoid') # Output layer\n",
    "])\n",
    "\n",
    "# Define the callback function\n",
    "early_stopping = EarlyStopping(patience=15)\n",
    "\n",
    "# Compile the model\n",
    "model.compile(optimizer='adam', loss='binary_crossentropy', metrics=['accuracy'])\n",
    "\n",
    "# train the model and plot the training and testing loss and accuracy at each epoc\n",
    "history = model.fit(X_train, y_train, epochs=20, batch_size=32, verbose=1, validation_data=(X_test, y_test), \n",
    "                    callbacks=[early_stopping])\n",
    "\n"
   ]
  },
  {
   "cell_type": "markdown",
   "metadata": {},
   "source": [
    "# 5. **Visualizing the learning curves**: ⤴⤵"
   ]
  },
  {
   "cell_type": "code",
   "execution_count": 11,
   "metadata": {},
   "outputs": [
    {
     "data": {
      "image/png": "[encoded data removed]",
      "text/plain": [
       "<Figure size 1000x800 with 1 Axes>"
      ]
     },
     "metadata": {},
     "output_type": "display_data"
    },
    {
     "data": {
      "image/png": "[encoded data removed]",
      "text/plain": [
       "<Figure size 1000x800 with 1 Axes>"
      ]
     },
     "metadata": {},
     "output_type": "display_data"
    }
   ],
   "source": [
    "import matplotlib.pyplot as plt\n",
    "\n",
    "# plot the training and testing loss and accuracy at each epoc\n",
    "fig, ax = plt.subplots(figsize=(10, 8))\n",
    "ax.plot(history.history['loss'], label='Training loss')\n",
    "ax.plot(history.history['val_loss'], label='Validation loss')\n",
    "ax.legend()\n",
    "plt.show()\n",
    "\n",
    "fig, ax = plt.subplots(figsize=(10, 8))\n",
    "ax.plot(history.history['accuracy'], label='Training accuracy')\n",
    "ax.plot(history.history['val_accuracy'], label='Validation accuracy')\n",
    "ax.legend()\n",
    "plt.show()"
   ]
  },
  {
   "cell_type": "markdown",
   "metadata": {},
   "source": [
    "# 6. **Evaluate the Model** ⚖"
   ]
  },
  {
   "cell_type": "code",
   "execution_count": null,
   "metadata": {},
   "outputs": [
    {
     "name": "stdout",
     "output_type": "stream",
     "text": [
      "Test Accuracy: 0.8550\n"
     ]
    }
   ],
   "source": [
    "\n",
    "# Evaluate on the test set\n",
    "test_loss, test_accuracy = model.evaluate(X_test, y_test, verbose=0)\n",
    "print(f'Test Accuracy: {test_accuracy:.4f}')\n"
   ]
  },
  {
   "cell_type": "markdown",
   "metadata": {},
   "source": [
    "# 7. **Save the Model** 💾"
   ]
  },
  {
   "cell_type": "code",
   "execution_count": 13,
   "metadata": {},
   "outputs": [],
   "source": [
    "# Save the model:\n",
    "\n",
    "model.save('customer_churn_model_85.50%.h5')"
   ]
  },
  {
   "cell_type": "markdown",
   "metadata": {},
   "source": [
    "----\n",
    "<h2 style=\"color:#42A5F5;\">📌 Final Observations & Future Work 🔍</h2>\n",
    "\n",
    "----\n",
    "<h3 style=\"color:#FFA726;\">🔬 Summary of Our Journey</h3>\n",
    "<p style=\"font-size:18px; color:#FFFFFF;\">\n",
    "In this notebook, we embarked on a step-by-step journey to predict customer churn using both <b>Machine Learning</b> and <b>Deep Learning</b>.  \n",
    "Here’s a quick recap of our approach:  \n",
    "</p>\n",
    "\n",
    "<ul style=\"font-size:18px; color:#FFFFFF;\">\n",
    "  <li>📂 <strong>Data Preprocessing:</strong> Loaded, cleaned, and preprocessed the <b>BankChurn Dataset</b>, ensuring it's ready for modeling.</li>\n",
    "  <li>📊 <strong>Exploratory Data Analysis (EDA):</strong> Uncovered key trends, correlations, and patterns in customer behavior.</li>\n",
    "  <li>🤖 <strong>Machine Learning Models:</strong> Implemented multiple ML models (Logistic Regression, Decision Trees, Random Forest, and XGBoost) to establish baseline performance.</li>\n",
    "  <li>🧠 <strong>Deep Learning Model:</strong> Built and trained a Neural Network using <b>TensorFlow/Keras</b> to enhance predictive accuracy.</li>\n",
    "  <li>📉 <strong>Performance Evaluation:</strong> Compared the ML and DL models, tuning hyperparameters to optimize results.</li>\n",
    "</ul>\n",
    "\n",
    "<h3 style=\"color:#26A69A;\">📊 Key Findings</h3>\n",
    "<ul style=\"font-size:18px; color:#FFFFFF;\">\n",
    "  <li>🚀 Deep Learning provided a noticeable improvement over traditional ML models, especially in capturing complex patterns.</li>\n",
    "  <li>🔍 Certain features like <b>Credit Score</b>, <b>Tenure</b>, and <b>Number of Products</b> played a significant role in churn prediction.</li>\n",
    "  <li>📈 Hyperparameter tuning and proper data preprocessing significantly improved model performance.</li>\n",
    "</ul>\n",
    "\n",
    "<h3 style=\"color:#AB47BC;\">🚀 Future Work & Enhancements</h3>\n",
    "<p style=\"font-size:18px; color:#FFFFFF;\">\n",
    "While our model performed well, there's always room for improvement! Some possible future directions include:\n",
    "</p>\n",
    "\n",
    "<ul style=\"font-size:18px; color:#FFFFFF;\">\n",
    "  <li>🔄 <strong>Feature Engineering:</strong> Creating new meaningful features to boost predictive power.</li>\n",
    "  <li>📊 <strong>Advanced Deep Learning Architectures:</strong> Experimenting with LSTMs, CNNs, or Transformers for improved performance.</li>\n",
    "  <li>🛠️ <strong>Hyperparameter Optimization:</strong> Using Grid Search or Bayesian Optimization for better tuning.</li>\n",
    "  <li>📈 <strong>Explainability:</strong> Implementing <b>SHAP</b> or <b>LIME</b> to interpret model decisions.</li>\n",
    "  <li>🌍 <strong>Deployment:</strong> Deploying the trained model as an interactive web app using <b>Streamlit or Flask</b>.</li>\n",
    "</ul>\n",
    "\n",
    "<h2 style=\"color:#42A5F5;\">🌟 Thank You for Exploring! 💙</h2>\n",
    "<p style=\"font-size:18px; color:#FFFFFF;\">  \n",
    "If you enjoyed this notebook and found it insightful, don't forget to <strong>upvote</strong>! 👍  \n",
    "Your support means a lot and encourages me to keep sharing high-quality content. 🚀  \n",
    "</p>\n",
    "\n",
    "<p style=\"font-size:20px; font-weight:bold; color:#FFFFFF; text-align:center;\">  \n",
    "✨ Happy Learning! Keep Innovating! 🚀📊  \n",
    "</p>\n"
   ]
  }
 ],
 "metadata": {
  "kernelspec": {
   "display_name": "tf_env",
   "language": "python",
   "name": "python3"
  },
  "language_info": {
   "codemirror_mode": {
    "name": "ipython",
    "version": 3
   },
   "file_extension": ".py",
   "mimetype": "text/x-python",
   "name": "python",
   "nbconvert_exporter": "python",
   "pygments_lexer": "ipython3",
   "version": "3.8.18"
  }
 },
 "nbformat": 4,
 "nbformat_minor": 2
}
